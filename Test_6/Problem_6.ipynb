{
 "cells": [
  {
   "attachments": {},
   "cell_type": "markdown",
   "metadata": {},
   "source": [
    "# Specific Test VI. SSL on Real Dataset"
   ]
  },
  {
   "attachments": {},
   "cell_type": "markdown",
   "metadata": {},
   "source": [
    "## Import Libraries"
   ]
  },
  {
   "cell_type": "code",
   "execution_count": 1,
   "metadata": {},
   "outputs": [],
   "source": [
    "import os\n",
    "import numpy as np\n",
    "from PIL import Image\n",
    "\n",
    "import torch\n",
    "import torch.nn as nn\n",
    "from torchvision import transforms\n",
    "\n",
    "from tqdm import tqdm\n",
    "\n",
    "from torchvision.transforms.functional import to_tensor\n"
   ]
  },
  {
   "attachments": {},
   "cell_type": "markdown",
   "metadata": {},
   "source": [
    "## Data Preprocessing"
   ]
  },
  {
   "attachments": {},
   "cell_type": "markdown",
   "metadata": {},
   "source": [
    "Loading Data into List"
   ]
  },
  {
   "cell_type": "code",
   "execution_count": 2,
   "metadata": {},
   "outputs": [
    {
     "name": "stdout",
     "output_type": "stream",
     "text": [
      "Data points for lenses 152\n",
      "Data points for non lenses 63\n",
      "max value with nan values for lenses nan\n",
      "min value with nan values for non lenses nan\n"
     ]
    }
   ],
   "source": [
    "data_dir = 'real_hst/'\n",
    "lenses = []\n",
    "non_lenses = []\n",
    "for filename in os.listdir(data_dir):\n",
    "    if filename.endswith(\".npy\"):\n",
    "        file_path = os.path.join(data_dir, filename)\n",
    "        if filename.startswith(\"nl_\"):\n",
    "            # Data for label 1 (files starting with \"nl_\")\n",
    "            data = np.load(file_path)\n",
    "            non_lenses.append(data)\n",
    "        else:\n",
    "            # Data for label 2 (files not starting with \"nl_\")\n",
    "            data = np.load(file_path)\n",
    "            lenses.append(data)\n",
    "\n",
    "print('Data points for lenses', len(lenses))\n",
    "print('Data points for non lenses', len(non_lenses))\n",
    "print('max value with nan values for lenses', np.max(lenses))\n",
    "print('min value with nan values for non lenses', np.min(non_lenses))"
   ]
  },
  {
   "attachments": {},
   "cell_type": "markdown",
   "metadata": {},
   "source": [
    "NaN values are present within your list, the solution is to replace them with the average value derived from the non-NaN elements in the list."
   ]
  },
  {
   "cell_type": "code",
   "execution_count": 3,
   "metadata": {},
   "outputs": [
    {
     "name": "stdout",
     "output_type": "stream",
     "text": [
      "Max value for lenses 204.44829\n",
      "max value for non lenses 152.85097\n"
     ]
    }
   ],
   "source": [
    "avg_lenses = np.nanmean(lenses)\n",
    "avg_non_lenses = np.nanmean(non_lenses)\n",
    "\n",
    "lenses = [np.where(np.isnan(arr), avg_lenses, arr) for arr in lenses]\n",
    "non_lenses = [np.where(np.isnan(arr), avg_non_lenses, arr) for arr in non_lenses]\n",
    "\n",
    "max_value_lenses = np.max(lenses)\n",
    "min_value_lenses = np.min(lenses)\n",
    "\n",
    "max_value_non_lenses = np.max(non_lenses)\n",
    "min_value_non_lenses = np.min(non_lenses)\n",
    "\n",
    "print('Max value for lenses', np.max(lenses))\n",
    "print('max value for non lenses', np.max(non_lenses))"
   ]
  },
  {
   "attachments": {},
   "cell_type": "markdown",
   "metadata": {},
   "source": [
    "Normalising data"
   ]
  },
  {
   "cell_type": "code",
   "execution_count": 4,
   "metadata": {},
   "outputs": [
    {
     "name": "stdout",
     "output_type": "stream",
     "text": [
      "Max value for normalise lenses 1.0\n",
      "max value for normalise non lenses 1.0\n"
     ]
    }
   ],
   "source": [
    "norm_lenses = [(arr - min_value_lenses) / (max_value_lenses - min_value_lenses) for arr in lenses]\n",
    "norm_non_lenses = [(arr - min_value_non_lenses) / (max_value_non_lenses - min_value_non_lenses) for arr in non_lenses]\n",
    "\n",
    "print('Max value for normalise lenses', np.max(norm_lenses))\n",
    "print('max value for normalise non lenses', np.max(norm_non_lenses))"
   ]
  },
  {
   "cell_type": "code",
   "execution_count": 5,
   "metadata": {},
   "outputs": [],
   "source": [
    "class DeepLenseDataset(torch.utils.data.Dataset):\n",
    "    def __init__(self, data1, data2, transform=None):\n",
    "        self.data1 = data1\n",
    "        self.data2 = data2\n",
    "        self.transform = transform\n",
    "        \n",
    "    def __len__(self):\n",
    "        return len(self.data1) + len(self.data2)\n",
    "\n",
    "    def __getitem__(self, index):\n",
    "        if index < len(self.data1):\n",
    "            img    = self.data1[index]\n",
    "            target = torch.tensor(0)\n",
    "        else:\n",
    "            img    = self.data2[index - len(self.data1)]\n",
    "            target =  torch.tensor(1)\n",
    "        #print(img)\n",
    "\n",
    "        #img = Image.fromarray(img)\n",
    "\n",
    "        img = to_tensor(img)\n",
    "\n",
    "        img = img.repeat(3,1,1)\n",
    "        #print(img)\n",
    "        if self.transform is not None:\n",
    "            img = self.transform(img)\n",
    "            img = self.transform(img)\n",
    "            \n",
    "        \n",
    "\n",
    "        return img, img, target"
   ]
  },
  {
   "attachments": {},
   "cell_type": "markdown",
   "metadata": {},
   "source": [
    "## Model"
   ]
  },
  {
   "attachments": {},
   "cell_type": "markdown",
   "metadata": {},
   "source": [
    "MoCo : Momentum Contrast for unsupervised visual representation learning"
   ]
  },
  {
   "cell_type": "code",
   "execution_count": 6,
   "metadata": {},
   "outputs": [],
   "source": [
    "from torchvision.models import resnet50\n",
    "class MoCo(nn.Module):\n",
    "    def __init__(self, dim=128, K=128, m=0.999, T=0.07): # Parameters from original paper\n",
    "        super().__init__()\n",
    "        self.K = K\n",
    "        self.m = m\n",
    "        self.T = T\n",
    "        self.encoder_q = resnet50(num_classes=dim)\n",
    "        self.encoder_k = resnet50(num_classes=dim)\n",
    "\n",
    "        for param_q, param_k in zip(self.encoder_q.parameters(), self.encoder_k.parameters()):\n",
    "            param_k.data.copy_(param_q.data)\n",
    "            # Make sure key encoder parameters are not effected by gradients\n",
    "            param_k.requires_grad = False\n",
    "\n",
    "        self.register_buffer(\"queue\", torch.randn(dim, K))\n",
    "        self.queue = nn.functional.normalize(self.queue, dim=0)\n",
    "        self.register_buffer(\"queue_ptr\", torch.zeros(1, dtype=torch.long))\n",
    "\n",
    "    @torch.no_grad()\n",
    "    def _momentum_update_key_encoder(self): # momentum for weights of encoders\n",
    "        for param_q, param_k in zip(self.encoder_q.parameters(), self.encoder_k.parameters()):\n",
    "            param_k.data = param_k.data * self.m + param_q.data *(1. - self.m)\n",
    "\n",
    "    @torch.no_grad()\n",
    "    def _dequeue_and_enqueue(self, keys):\n",
    "        batch_size = keys.shape[0]\n",
    "        ptr = int(self.queue_ptr)\n",
    "        assert self.K % batch_size == 0\n",
    "        self.queue[:, ptr:ptr + batch_size] = keys.T\n",
    "        ptr = (ptr + batch_size) % self.K\n",
    "        self.queue_ptr[0] = ptr\n",
    "\n",
    "\n",
    "    def forward(self, im_q, im_k):\n",
    "        q = self.encoder_q(im_q)\n",
    "        q = nn.functional.normalize(q, dim=1)\n",
    "        with torch.no_grad():\n",
    "            self._momentum_update_key_encoder()\n",
    "            k = self.encoder_k(im_k)\n",
    "            k = nn.functional.normalize(k, dim=1)\n",
    "        # compute dot product\n",
    "        l_pos = torch.einsum('nc,nc->n', [q, k]).unsqueeze(-1)\n",
    "        l_neg = torch.einsum('nc,ck->nk', [q, self.queue.clone().detach()])\n",
    "        logits = torch.cat([l_pos, l_neg], dim=1)\n",
    "        logits /= self.T # do temperature annelling like the original paper\n",
    "        labels = torch.zeros(logits.shape[0], dtype=torch.long)#.cuda()\n",
    "        self._dequeue_and_enqueue(k)\n",
    "        return logits, labels\n"
   ]
  },
  {
   "attachments": {},
   "cell_type": "markdown",
   "metadata": {},
   "source": [
    "## Training "
   ]
  },
  {
   "cell_type": "code",
   "execution_count": 7,
   "metadata": {},
   "outputs": [
    {
     "name": "stderr",
     "output_type": "stream",
     "text": [
      "  0%|          | 0/1 [00:52<?, ?it/s]\n",
      "  0%|          | 0/1 [00:53<?, ?it/s]\n",
      "  0%|          | 0/1 [00:53<?, ?it/s]\n",
      "  0%|          | 0/1 [00:53<?, ?it/s]\n",
      "  0%|          | 0/1 [00:53<?, ?it/s]\n",
      "  0%|          | 0/1 [00:53<?, ?it/s]\n",
      "  0%|          | 0/1 [00:52<?, ?it/s]\n",
      "  0%|          | 0/1 [00:53<?, ?it/s]\n",
      "  0%|          | 0/1 [00:54<?, ?it/s]\n"
     ]
    }
   ],
   "source": [
    "batch_size = 128\n",
    "epochs = 10\n",
    "#device = torch.device('cuda:0' if torch.cuda.is_available else \"cpu\")\n",
    "device = \"cpu\"\n",
    "# augumentation = [\n",
    "#     transforms.RandomResizedCrop(224, scale=(0.2, 1.)),\n",
    "#     transforms.RandomGrayscale(p=0.2),\n",
    "#     transforms.ColorJitter(0.4, 0.4, 0.4, 0.4),\n",
    "#     transforms.RandomHorizontalFlip(),\n",
    "#     transforms.ToTensor()\n",
    "#   ]\n",
    "augumentation = None\n",
    "dataset = DeepLenseDataset(norm_lenses, norm_non_lenses, transform=augumentation)\n",
    "dataloader = torch.utils.data.DataLoader(dataset, batch_size = batch_size, drop_last=True)\n",
    "model = MoCo().to(device)\n",
    "criterion = nn.CrossEntropyLoss()#.to(device)\n",
    "optimizer = torch.optim.SGD(model.parameters(), 0.03, momentum=0.9, weight_decay=1e-4)\n",
    "for epoch in range(epochs):\n",
    "    pbar = tqdm(dataloader)\n",
    "    for i, (images_q, images_k, _) in enumerate(dataloader):\n",
    "        \n",
    "        im_q=images_q.to(device)\n",
    "        im_k=images_k.to(device)\n",
    "        output, target = model(im_q, im_k)\n",
    "        loss = criterion(output, target)\n",
    "        optimizer.zero_grad()\n",
    "        loss.backward()\n",
    "        optimizer.step()\n",
    "\n",
    "torch.save(model.state_dict(), \"moco.pth\")"
   ]
  },
  {
   "attachments": {},
   "cell_type": "markdown",
   "metadata": {},
   "source": [
    "## Classification using SSL model"
   ]
  },
  {
   "cell_type": "code",
   "execution_count": 11,
   "metadata": {},
   "outputs": [
    {
     "name": "stderr",
     "output_type": "stream",
     "text": [
      "100%|██████████| 5/5 [03:14<00:00, 38.89s/it]\n"
     ]
    }
   ],
   "source": [
    "model_path = \"moco.pth\"\n",
    "model1 = MoCo().to(device)\n",
    "model1.load_state_dict(torch.load(model_path))\n",
    "classifier = model1.encoder_q\n",
    "classifier.fc = nn.Linear(2048, 2, bias=True).to(device)\n",
    "#loader = get_loader(aug, per)\n",
    "criterion = nn.CrossEntropyLoss().to(device)\n",
    "optimizer = torch.optim.SGD(classifier.fc.parameters(), 0.008)\n",
    "l = []\n",
    "for epochs in tqdm(range(5)):\n",
    "    for images, _, _ in dataloader:\n",
    "        optimizer.zero_grad()\n",
    "        output = classifier(images.to(device))\n",
    "        loss = criterion(output, target)\n",
    "        loss.backward()\n",
    "        l.append(loss.item())\n",
    "        optimizer.step()"
   ]
  },
  {
   "attachments": {},
   "cell_type": "markdown",
   "metadata": {},
   "source": [
    "## Evaluation"
   ]
  },
  {
   "cell_type": "code",
   "execution_count": 18,
   "metadata": {},
   "outputs": [
    {
     "name": "stderr",
     "output_type": "stream",
     "text": [
      "/home/rishi/ls/envs/tf/lib/python3.10/site-packages/sklearn/metrics/_ranking.py:1029: UndefinedMetricWarning: No positive samples in y_true, true positive value should be meaningless\n",
      "  warnings.warn(\n"
     ]
    },
    {
     "data": {
      "image/png": "[encoded data removed]",
      "text/plain": [
       "<Figure size 800x600 with 1 Axes>"
      ]
     },
     "metadata": {},
     "output_type": "display_data"
    }
   ],
   "source": [
    "from sklearn.preprocessing import LabelEncoder\n",
    "from sklearn.metrics import roc_curve, auc\n",
    "from sklearn.preprocessing import label_binarize\n",
    "\n",
    "import matplotlib.pyplot as plt\n",
    "\n",
    "all_labels = []\n",
    "all_scores = []\n",
    "\n",
    "# Set the model to evaluation mode\n",
    "classifier.eval()\n",
    "\n",
    "# Iterate over the validation set\n",
    "with torch.no_grad():\n",
    "    for val_inputs, _, val_labels in dataloader:\n",
    "        val_inputs, val_labels = val_inputs.to(device), val_labels.to(device)\n",
    "        val_outputs = classifier(val_inputs)\n",
    "        \n",
    "        # Assuming the model outputs raw logits, apply softmax to get probabilities\n",
    "        probabilities = torch.nn.functional.softmax(val_outputs, dim=1)\n",
    "        \n",
    "        all_labels.extend(val_labels.cpu().numpy())\n",
    "        all_scores.extend(probabilities.cpu().numpy())\n",
    "\n",
    "# Convert lists to numpy arrays\n",
    "all_labels = np.array(all_labels)\n",
    "all_scores = np.array(all_scores)\n",
    "\n",
    "# Compute ROC curve and ROC area for each class\n",
    "fpr, tpr, _ = roc_curve(all_labels, all_scores[:, 1])\n",
    "roc_auc = auc(fpr, tpr)\n",
    "\n",
    "# Plot the ROC curve\n",
    "plt.figure(figsize=(8, 6))\n",
    "plt.plot(fpr, tpr, color='darkorange', lw=2, label='ROC curve (area = %0.2f)' % roc_auc)\n",
    "plt.plot([0, 1], [0, 1], color='navy', lw=2, linestyle='--')\n",
    "plt.xlim([0.0, 1.0])\n",
    "plt.ylim([0.0, 1.05])\n",
    "plt.xlabel('False Positive Rate')\n",
    "plt.ylabel('True Positive Rate')\n",
    "plt.title('Receiver Operating Characteristic (ROC) Curve')\n",
    "plt.legend(loc=\"lower right\")\n",
    "plt.show()"
   ]
  },
  {
   "cell_type": "code",
   "execution_count": null,
   "metadata": {},
   "outputs": [],
   "source": []
  }
 ],
 "metadata": {
  "kernelspec": {
   "display_name": "tf",
   "language": "python",
   "name": "python3"
  },
  "language_info": {
   "codemirror_mode": {
    "name": "ipython",
    "version": 3
   },
   "file_extension": ".py",
   "mimetype": "text/x-python",
   "name": "python",
   "nbconvert_exporter": "python",
   "pygments_lexer": "ipython3",
   "version": "3.10.8"
  },
  "orig_nbformat": 4,
  "vscode": {
   "interpreter": {
    "hash": "a145484e8296c30421ea1c0673b847260bb44c68457a2862a7bfe614b62ceff8"
   }
  }
 },
 "nbformat": 4,
 "nbformat_minor": 2
}
